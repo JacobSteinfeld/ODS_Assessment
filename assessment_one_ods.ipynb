{
 "cells": [
  {
   "cell_type": "code",
   "execution_count": 73,
   "id": "e69ff568-af45-4354-b205-15071c4f734a",
   "metadata": {},
   "outputs": [],
   "source": [
    "import pandas as pd\n",
    "import numpy as np\n",
    "import matplotlib.pyplot as plt"
   ]
  },
  {
   "cell_type": "code",
   "execution_count": 74,
   "id": "fb2f536b-a163-447d-b41d-275eda0dddcc",
   "metadata": {},
   "outputs": [
    {
     "name": "stderr",
     "output_type": "stream",
     "text": [
      "/opt/anaconda3/envs/mlenv/lib/python3.7/site-packages/ipykernel_launcher.py:6: FutureWarning: In a future version of pandas all arguments of DataFrame.drop except for the argument 'labels' will be keyword-only\n",
      "  \n"
     ]
    }
   ],
   "source": [
    "#create df for all the orders\n",
    "orders = \"orders_ods.csv\"\n",
    "orders_df = pd.read_csv(orders)\n",
    "\n",
    "#drop extra row at end of csv\n",
    "orders_df = orders_df.drop('Unnamed: 18', 1)"
   ]
  },
  {
   "cell_type": "code",
   "execution_count": 75,
   "id": "eb940f04-71ac-4140-9368-79bd52841f98",
   "metadata": {},
   "outputs": [
    {
     "data": {
      "text/plain": [
       "Returned    296\n",
       "Order ID    296\n",
       "dtype: int64"
      ]
     },
     "execution_count": 75,
     "metadata": {},
     "output_type": "execute_result"
    }
   ],
   "source": [
    "#create df for all the returns\n",
    "returns = \"returns_ods.csv\"\n",
    "returns_df = pd.read_csv(returns)\n",
    "returns_df.count()"
   ]
  },
  {
   "cell_type": "code",
   "execution_count": 76,
   "id": "723df19e-56df-45c4-aaa9-ddcf27289b2e",
   "metadata": {},
   "outputs": [],
   "source": [
    "#merge both dfs on Customer ID\n",
    "full_orders_df = pd.merge(orders_df, returns_df, on='Order ID', how='left')\n"
   ]
  },
  {
   "cell_type": "code",
   "execution_count": 77,
   "id": "be6e007c-7c15-45aa-b794-e57b3e84711e",
   "metadata": {},
   "outputs": [
    {
     "data": {
      "text/html": [
       "<div>\n",
       "<style scoped>\n",
       "    .dataframe tbody tr th:only-of-type {\n",
       "        vertical-align: middle;\n",
       "    }\n",
       "\n",
       "    .dataframe tbody tr th {\n",
       "        vertical-align: top;\n",
       "    }\n",
       "\n",
       "    .dataframe thead th {\n",
       "        text-align: right;\n",
       "    }\n",
       "</style>\n",
       "<table border=\"1\" class=\"dataframe\">\n",
       "  <thead>\n",
       "    <tr style=\"text-align: right;\">\n",
       "      <th></th>\n",
       "      <th>Order ID</th>\n",
       "      <th>Order Date</th>\n",
       "      <th>Ship Date</th>\n",
       "      <th>Ship Mode</th>\n",
       "      <th>Customer ID</th>\n",
       "      <th>Segment</th>\n",
       "      <th>City</th>\n",
       "      <th>State</th>\n",
       "      <th>Postal Code</th>\n",
       "      <th>Region</th>\n",
       "      <th>Product ID</th>\n",
       "      <th>Category</th>\n",
       "      <th>Sub-Category</th>\n",
       "      <th>Product Name</th>\n",
       "      <th>Sales</th>\n",
       "      <th>Quantity</th>\n",
       "      <th>Discount</th>\n",
       "      <th>Profit</th>\n",
       "      <th>Returned</th>\n",
       "    </tr>\n",
       "  </thead>\n",
       "  <tbody>\n",
       "    <tr>\n",
       "      <th>0</th>\n",
       "      <td>CA-2016-152156</td>\n",
       "      <td>11/8/16</td>\n",
       "      <td>11/11/16</td>\n",
       "      <td>Second Class</td>\n",
       "      <td>CG-12520</td>\n",
       "      <td>Consumer</td>\n",
       "      <td>Henderson</td>\n",
       "      <td>Kentucky</td>\n",
       "      <td>42420</td>\n",
       "      <td>South</td>\n",
       "      <td>FUR-BO-10001798</td>\n",
       "      <td>Furniture</td>\n",
       "      <td>Bookcases</td>\n",
       "      <td>Bush Somerset Collection Bookcase</td>\n",
       "      <td>261.9600</td>\n",
       "      <td>2</td>\n",
       "      <td>0%</td>\n",
       "      <td>41.9136</td>\n",
       "      <td>No</td>\n",
       "    </tr>\n",
       "    <tr>\n",
       "      <th>1</th>\n",
       "      <td>CA-2016-152156</td>\n",
       "      <td>11/8/16</td>\n",
       "      <td>11/11/16</td>\n",
       "      <td>Second Class</td>\n",
       "      <td>CG-12520</td>\n",
       "      <td>Consumer</td>\n",
       "      <td>Henderson</td>\n",
       "      <td>Kentucky</td>\n",
       "      <td>42420</td>\n",
       "      <td>South</td>\n",
       "      <td>FUR-CH-10000454</td>\n",
       "      <td>Furniture</td>\n",
       "      <td>Chairs</td>\n",
       "      <td>Hon Deluxe Fabric Upholstered Stacking Chairs,...</td>\n",
       "      <td>731.9400</td>\n",
       "      <td>3</td>\n",
       "      <td>0%</td>\n",
       "      <td>219.5820</td>\n",
       "      <td>No</td>\n",
       "    </tr>\n",
       "    <tr>\n",
       "      <th>2</th>\n",
       "      <td>CA-2016-138688</td>\n",
       "      <td>6/12/16</td>\n",
       "      <td>6/16/16</td>\n",
       "      <td>Second Class</td>\n",
       "      <td>DV-13045</td>\n",
       "      <td>Corporate</td>\n",
       "      <td>Los Angeles</td>\n",
       "      <td>California</td>\n",
       "      <td>90036</td>\n",
       "      <td>West</td>\n",
       "      <td>OFF-LA-10000240</td>\n",
       "      <td>Office Supplies</td>\n",
       "      <td>Labels</td>\n",
       "      <td>Self-Adhesive Address Labels for Typewriters b...</td>\n",
       "      <td>14.6200</td>\n",
       "      <td>2</td>\n",
       "      <td>0%</td>\n",
       "      <td>6.8714</td>\n",
       "      <td>No</td>\n",
       "    </tr>\n",
       "    <tr>\n",
       "      <th>3</th>\n",
       "      <td>US-2015-108966</td>\n",
       "      <td>10/11/15</td>\n",
       "      <td>10/18/15</td>\n",
       "      <td>Standard Class</td>\n",
       "      <td>SO-20335</td>\n",
       "      <td>Consumer</td>\n",
       "      <td>Fort Lauderdale</td>\n",
       "      <td>Florida</td>\n",
       "      <td>33311</td>\n",
       "      <td>South</td>\n",
       "      <td>FUR-TA-10000577</td>\n",
       "      <td>Furniture</td>\n",
       "      <td>Tables</td>\n",
       "      <td>Bretford CR4500 Series Slim Rectangular Table</td>\n",
       "      <td>957.5775</td>\n",
       "      <td>5</td>\n",
       "      <td>45%</td>\n",
       "      <td>-383.0310</td>\n",
       "      <td>No</td>\n",
       "    </tr>\n",
       "    <tr>\n",
       "      <th>4</th>\n",
       "      <td>US-2015-108966</td>\n",
       "      <td>10/11/15</td>\n",
       "      <td>10/18/15</td>\n",
       "      <td>Standard Class</td>\n",
       "      <td>SO-20335</td>\n",
       "      <td>Consumer</td>\n",
       "      <td>Fort Lauderdale</td>\n",
       "      <td>Florida</td>\n",
       "      <td>33311</td>\n",
       "      <td>South</td>\n",
       "      <td>OFF-ST-10000760</td>\n",
       "      <td>Office Supplies</td>\n",
       "      <td>Storage</td>\n",
       "      <td>Eldon Fold 'N Roll Cart System</td>\n",
       "      <td>22.3680</td>\n",
       "      <td>2</td>\n",
       "      <td>20%</td>\n",
       "      <td>2.5164</td>\n",
       "      <td>No</td>\n",
       "    </tr>\n",
       "  </tbody>\n",
       "</table>\n",
       "</div>"
      ],
      "text/plain": [
       "         Order ID Order Date Ship Date       Ship Mode Customer ID    Segment  \\\n",
       "0  CA-2016-152156    11/8/16  11/11/16    Second Class    CG-12520   Consumer   \n",
       "1  CA-2016-152156    11/8/16  11/11/16    Second Class    CG-12520   Consumer   \n",
       "2  CA-2016-138688    6/12/16   6/16/16    Second Class    DV-13045  Corporate   \n",
       "3  US-2015-108966   10/11/15  10/18/15  Standard Class    SO-20335   Consumer   \n",
       "4  US-2015-108966   10/11/15  10/18/15  Standard Class    SO-20335   Consumer   \n",
       "\n",
       "              City       State  Postal Code Region       Product ID  \\\n",
       "0        Henderson    Kentucky        42420  South  FUR-BO-10001798   \n",
       "1        Henderson    Kentucky        42420  South  FUR-CH-10000454   \n",
       "2      Los Angeles  California        90036   West  OFF-LA-10000240   \n",
       "3  Fort Lauderdale     Florida        33311  South  FUR-TA-10000577   \n",
       "4  Fort Lauderdale     Florida        33311  South  OFF-ST-10000760   \n",
       "\n",
       "          Category Sub-Category  \\\n",
       "0        Furniture    Bookcases   \n",
       "1        Furniture       Chairs   \n",
       "2  Office Supplies       Labels   \n",
       "3        Furniture       Tables   \n",
       "4  Office Supplies      Storage   \n",
       "\n",
       "                                        Product Name     Sales  Quantity  \\\n",
       "0                  Bush Somerset Collection Bookcase  261.9600         2   \n",
       "1  Hon Deluxe Fabric Upholstered Stacking Chairs,...  731.9400         3   \n",
       "2  Self-Adhesive Address Labels for Typewriters b...   14.6200         2   \n",
       "3      Bretford CR4500 Series Slim Rectangular Table  957.5775         5   \n",
       "4                     Eldon Fold 'N Roll Cart System   22.3680         2   \n",
       "\n",
       "  Discount    Profit Returned  \n",
       "0       0%   41.9136       No  \n",
       "1       0%  219.5820       No  \n",
       "2       0%    6.8714       No  \n",
       "3      45% -383.0310       No  \n",
       "4      20%    2.5164       No  "
      ]
     },
     "execution_count": 77,
     "metadata": {},
     "output_type": "execute_result"
    }
   ],
   "source": [
    "#replace the \"NaN's\" in the Returned column to \"No\"\n",
    "full_orders_df = full_orders_df.replace(np.nan, 'No', regex=True)\n",
    "full_orders_df.head()"
   ]
  },
  {
   "cell_type": "code",
   "execution_count": 6,
   "id": "9a25002c-a7ad-43ab-b6a0-535b29b6cf51",
   "metadata": {},
   "outputs": [],
   "source": [
    "# rename columns sales and profit because there is a space before the first letter and after the last\n",
    "\n",
    "full_orders_df.rename(columns = {' Profit ':'Profit', ' Sales ':'Sales'}, inplace = True)"
   ]
  },
  {
   "cell_type": "code",
   "execution_count": 7,
   "id": "8f3696ac-6e4b-422b-a2a0-5b0d5b0cc4b1",
   "metadata": {},
   "outputs": [
    {
     "data": {
      "text/html": [
       "<div>\n",
       "<style scoped>\n",
       "    .dataframe tbody tr th:only-of-type {\n",
       "        vertical-align: middle;\n",
       "    }\n",
       "\n",
       "    .dataframe tbody tr th {\n",
       "        vertical-align: top;\n",
       "    }\n",
       "\n",
       "    .dataframe thead th {\n",
       "        text-align: right;\n",
       "    }\n",
       "</style>\n",
       "<table border=\"1\" class=\"dataframe\">\n",
       "  <thead>\n",
       "    <tr style=\"text-align: right;\">\n",
       "      <th></th>\n",
       "      <th>Order ID</th>\n",
       "      <th>Order Date</th>\n",
       "      <th>Ship Date</th>\n",
       "      <th>Ship Mode</th>\n",
       "      <th>Customer ID</th>\n",
       "      <th>Segment</th>\n",
       "      <th>City</th>\n",
       "      <th>State</th>\n",
       "      <th>Postal Code</th>\n",
       "      <th>Region</th>\n",
       "      <th>Product ID</th>\n",
       "      <th>Sub-Category</th>\n",
       "      <th>Product Name</th>\n",
       "      <th>Sales</th>\n",
       "      <th>Quantity</th>\n",
       "      <th>Discount</th>\n",
       "      <th>Profit</th>\n",
       "      <th>Returned</th>\n",
       "    </tr>\n",
       "    <tr>\n",
       "      <th>Category</th>\n",
       "      <th></th>\n",
       "      <th></th>\n",
       "      <th></th>\n",
       "      <th></th>\n",
       "      <th></th>\n",
       "      <th></th>\n",
       "      <th></th>\n",
       "      <th></th>\n",
       "      <th></th>\n",
       "      <th></th>\n",
       "      <th></th>\n",
       "      <th></th>\n",
       "      <th></th>\n",
       "      <th></th>\n",
       "      <th></th>\n",
       "      <th></th>\n",
       "      <th></th>\n",
       "      <th></th>\n",
       "    </tr>\n",
       "  </thead>\n",
       "  <tbody>\n",
       "    <tr>\n",
       "      <th>Furniture</th>\n",
       "      <td>2121</td>\n",
       "      <td>2121</td>\n",
       "      <td>2121</td>\n",
       "      <td>2121</td>\n",
       "      <td>2121</td>\n",
       "      <td>2121</td>\n",
       "      <td>2121</td>\n",
       "      <td>2121</td>\n",
       "      <td>2121</td>\n",
       "      <td>2121</td>\n",
       "      <td>2121</td>\n",
       "      <td>2121</td>\n",
       "      <td>2121</td>\n",
       "      <td>2121</td>\n",
       "      <td>2121</td>\n",
       "      <td>2121</td>\n",
       "      <td>2121</td>\n",
       "      <td>2121</td>\n",
       "    </tr>\n",
       "    <tr>\n",
       "      <th>Office Supplies</th>\n",
       "      <td>6026</td>\n",
       "      <td>6026</td>\n",
       "      <td>6026</td>\n",
       "      <td>6026</td>\n",
       "      <td>6026</td>\n",
       "      <td>6026</td>\n",
       "      <td>6026</td>\n",
       "      <td>6026</td>\n",
       "      <td>6026</td>\n",
       "      <td>6026</td>\n",
       "      <td>6026</td>\n",
       "      <td>6026</td>\n",
       "      <td>6026</td>\n",
       "      <td>6026</td>\n",
       "      <td>6026</td>\n",
       "      <td>6026</td>\n",
       "      <td>6026</td>\n",
       "      <td>6026</td>\n",
       "    </tr>\n",
       "    <tr>\n",
       "      <th>Technology</th>\n",
       "      <td>1847</td>\n",
       "      <td>1847</td>\n",
       "      <td>1847</td>\n",
       "      <td>1847</td>\n",
       "      <td>1847</td>\n",
       "      <td>1847</td>\n",
       "      <td>1847</td>\n",
       "      <td>1847</td>\n",
       "      <td>1847</td>\n",
       "      <td>1847</td>\n",
       "      <td>1847</td>\n",
       "      <td>1847</td>\n",
       "      <td>1847</td>\n",
       "      <td>1847</td>\n",
       "      <td>1847</td>\n",
       "      <td>1847</td>\n",
       "      <td>1847</td>\n",
       "      <td>1847</td>\n",
       "    </tr>\n",
       "  </tbody>\n",
       "</table>\n",
       "</div>"
      ],
      "text/plain": [
       "                 Order ID  Order Date  Ship Date  Ship Mode  Customer ID  \\\n",
       "Category                                                                   \n",
       "Furniture            2121        2121       2121       2121         2121   \n",
       "Office Supplies      6026        6026       6026       6026         6026   \n",
       "Technology           1847        1847       1847       1847         1847   \n",
       "\n",
       "                 Segment  City  State  Postal Code  Region  Product ID  \\\n",
       "Category                                                                 \n",
       "Furniture           2121  2121   2121         2121    2121        2121   \n",
       "Office Supplies     6026  6026   6026         6026    6026        6026   \n",
       "Technology          1847  1847   1847         1847    1847        1847   \n",
       "\n",
       "                 Sub-Category  Product Name  Sales  Quantity  Discount  \\\n",
       "Category                                                                 \n",
       "Furniture                2121          2121   2121      2121      2121   \n",
       "Office Supplies          6026          6026   6026      6026      6026   \n",
       "Technology               1847          1847   1847      1847      1847   \n",
       "\n",
       "                 Profit  Returned  \n",
       "Category                           \n",
       "Furniture          2121      2121  \n",
       "Office Supplies    6026      6026  \n",
       "Technology         1847      1847  "
      ]
     },
     "execution_count": 7,
     "metadata": {},
     "output_type": "execute_result"
    }
   ],
   "source": [
    "# sort by category\n",
    "\n",
    "categories_df = full_orders_df.groupby([\"Category\"])\n",
    "categories_df.count()"
   ]
  },
  {
   "cell_type": "code",
   "execution_count": 8,
   "id": "b55ef6f1-186f-4267-b941-e5f8c949a4b5",
   "metadata": {},
   "outputs": [
    {
     "name": "stdout",
     "output_type": "stream",
     "text": [
      "Category\n",
      "Furniture          2121\n",
      "Office Supplies    6026\n",
      "Technology         1847\n",
      "Name: Profit, dtype: int64\n"
     ]
    }
   ],
   "source": [
    "# get a count of how many products are in each categroy \n",
    "\n",
    "count_category = categories_df[\"Profit\"].count()\n",
    "print(count_category)"
   ]
  },
  {
   "cell_type": "code",
   "execution_count": null,
   "id": "7d578577-afa7-47de-8b53-d44748fd2603",
   "metadata": {},
   "outputs": [],
   "source": []
  },
  {
   "cell_type": "code",
   "execution_count": 9,
   "id": "23ff4728-8b5e-424a-9952-0cbec7b23bf9",
   "metadata": {},
   "outputs": [
    {
     "data": {
      "text/plain": [
       "Category\n",
       "Furniture           18451.2728\n",
       "Office Supplies    122490.8008\n",
       "Technology         145454.9481\n",
       "Name: Profit, dtype: float64"
      ]
     },
     "execution_count": 9,
     "metadata": {},
     "output_type": "execute_result"
    }
   ],
   "source": [
    "# Calculate the total revenue for each category.\n",
    "\n",
    "revenue_category = categories_df[\"Profit\"].sum()\n",
    "revenue_category"
   ]
  },
  {
   "cell_type": "code",
   "execution_count": null,
   "id": "9b472369-5bfb-4047-8299-a2f6e9e2e34f",
   "metadata": {},
   "outputs": [],
   "source": []
  },
  {
   "cell_type": "code",
   "execution_count": 10,
   "id": "4bf02129-a5ef-4473-851e-d9f2cee484dc",
   "metadata": {},
   "outputs": [],
   "source": [
    "# sort by sub-category\n",
    "\n",
    "subcategories_df = full_orders_df.groupby([\"Category\",\"Sub-Category\"])\n"
   ]
  },
  {
   "cell_type": "code",
   "execution_count": 128,
   "id": "909d265f-ea66-4e1f-9eb3-a1563997c8f2",
   "metadata": {},
   "outputs": [
    {
     "name": "stdout",
     "output_type": "stream",
     "text": [
      "Sub-Category\n",
      "Accessories     775\n",
      "Appliances      466\n",
      "Art             796\n",
      "Binders        1523\n",
      "Bookcases       228\n",
      "Chairs          617\n",
      "Copiers          68\n",
      "Envelopes       254\n",
      "Fasteners       217\n",
      "Furnishings     957\n",
      "Labels          364\n",
      "Machines        115\n",
      "Paper          1370\n",
      "Phones          889\n",
      "Storage         846\n",
      "Supplies        190\n",
      "Tables          319\n",
      "Name: Profit, dtype: int64\n"
     ]
    }
   ],
   "source": [
    "# get a count of how many products are in each sub-categroy \n",
    "\n",
    "count_subcategory = subcategories_df[\"Profit\"].count()\n",
    "print(count_subcategory)"
   ]
  },
  {
   "cell_type": "code",
   "execution_count": 12,
   "id": "c448729a-7c71-47bd-88bb-6cdea8bcfbfb",
   "metadata": {},
   "outputs": [
    {
     "data": {
      "text/plain": [
       "Category         Sub-Category\n",
       "Furniture        Bookcases       -3472.5560\n",
       "                 Chairs          26590.1663\n",
       "                 Furnishings     13059.1436\n",
       "                 Tables         -17725.4811\n",
       "Office Supplies  Appliances      18138.0054\n",
       "                 Art              6527.7870\n",
       "                 Binders         30221.7633\n",
       "                 Envelopes        6964.1767\n",
       "                 Fasteners         949.5182\n",
       "                 Labels           5546.2540\n",
       "                 Paper           34053.5693\n",
       "                 Storage         21278.8264\n",
       "                 Supplies        -1189.0995\n",
       "Technology       Accessories     41936.6357\n",
       "                 Copiers         55617.8249\n",
       "                 Machines         3384.7569\n",
       "                 Phones          44515.7306\n",
       "Name: Profit, dtype: float64"
      ]
     },
     "execution_count": 12,
     "metadata": {},
     "output_type": "execute_result"
    }
   ],
   "source": [
    "# Calculate the total revenue for each sub-category.\n",
    "\n",
    "revenue_subcategory = subcategories_df[\"Profit\"].sum()\n",
    "revenue_subcategory"
   ]
  },
  {
   "cell_type": "markdown",
   "id": "88bf2ee9-35ab-4f92-b150-f9ca6fe59c0b",
   "metadata": {},
   "source": []
  },
  {
   "cell_type": "markdown",
   "id": "260a5d62-a371-492b-acae-dd322c9354b7",
   "metadata": {},
   "source": [
    " Create graph for categories, sub categories, and Sales\n",
    "    "
   ]
  },
  {
   "cell_type": "code",
   "execution_count": 17,
   "id": "1be329b3-cf72-462b-aea0-63c20f91ce44",
   "metadata": {},
   "outputs": [
    {
     "data": {
      "text/plain": [
       "<AxesSubplot:title={'center':'Profit per Category'}, xlabel='Category', ylabel='Profit'>"
      ]
     },
     "execution_count": 17,
     "metadata": {},
     "output_type": "execute_result"
    },
    {
     "data": {
      "image/png": "[encoded data removed]",
      "text/plain": [
       "<Figure size 720x504 with 1 Axes>"
      ]
     },
     "metadata": {
      "needs_background": "light"
     },
     "output_type": "display_data"
    }
   ],
   "source": [
    "# Create the graph for Profit and Category\n",
    "category_profit = full_orders_df.groupby(['Category'])['Profit'].sum()\n",
    "\n",
    "category_profit.plot(kind='bar', title='Profit per Category', ylabel='Profit',\n",
    "         xlabel='Category', figsize=(10, 7), color=['#d9534f','#5cb85c','#5bc0de'])"
   ]
  },
  {
   "cell_type": "code",
   "execution_count": 38,
   "id": "9ab92492-fbd7-4f74-8f85-841f35de6e56",
   "metadata": {},
   "outputs": [
    {
     "data": {
      "text/plain": [
       "<AxesSubplot:title={'center':'Profit per Sub-Category'}, xlabel='Sub-Category', ylabel='Profit'>"
      ]
     },
     "execution_count": 38,
     "metadata": {},
     "output_type": "execute_result"
    },
    {
     "data": {
      "image/png": "[encoded data removed]",
      "text/plain": [
       "<Figure size 720x504 with 1 Axes>"
      ]
     },
     "metadata": {
      "needs_background": "light"
     },
     "output_type": "display_data"
    }
   ],
   "source": [
    "# Create the graph for Profit and Sub-Category\n",
    "\n",
    "subcategory_profit = full_orders_df.groupby([\"Category\",'Sub-Category'])['Profit'].sum().sort_values(ascending=False)\n",
    "\n",
    "c = ['green', 'green', 'green', 'green', 'green','green','green','green','green','green','green','green','green','green','red','red','red']\n",
    "subcategory_profit.plot(kind='bar', title='Profit per Sub-Category', ylabel='Profit',\n",
    "         xlabel='Sub-Category',color=c, figsize=(10, 7))\n"
   ]
  },
  {
   "cell_type": "code",
   "execution_count": 48,
   "id": "3ad6fb0b-d362-4f32-8b55-f64d8bcb265f",
   "metadata": {},
   "outputs": [],
   "source": [
    "# sort by discount\n",
    "discount_df = full_orders_df.groupby([\"Discount\"])"
   ]
  },
  {
   "cell_type": "code",
   "execution_count": 49,
   "id": "4c378822-6124-4d97-86c4-5e3f3da30162",
   "metadata": {},
   "outputs": [
    {
     "name": "stdout",
     "output_type": "stream",
     "text": [
      "Discount\n",
      "0%      4798\n",
      "10%       94\n",
      "15%       52\n",
      "160%      16\n",
      "180%       1\n",
      "20%     3657\n",
      "30%      227\n",
      "32%       27\n",
      "40%      206\n",
      "45%       11\n",
      "50%       66\n",
      "60%      122\n",
      "70%      418\n",
      "80%      299\n",
      "Name: Profit, dtype: int64\n"
     ]
    }
   ],
   "source": [
    "# get a count of how many products are in each Discount \n",
    "\n",
    "count_discount = discount_df[\"Profit\"].count()\n",
    "print(count_discount)"
   ]
  },
  {
   "cell_type": "code",
   "execution_count": 50,
   "id": "8f4bd574-ca91-439a-bcfc-665f8a7a7afd",
   "metadata": {},
   "outputs": [
    {
     "data": {
      "text/plain": [
       "Discount\n",
       "0%      320987.6032\n",
       "10%       9029.1770\n",
       "15%       1418.9915\n",
       "160%     -1092.6305\n",
       "180%        -3.8160\n",
       "20%      90337.3060\n",
       "30%     -10369.2774\n",
       "32%      -2391.1377\n",
       "40%     -23057.0504\n",
       "45%      -2493.1111\n",
       "50%     -20506.4281\n",
       "60%      -4852.0247\n",
       "70%     -40075.3569\n",
       "80%     -30535.2232\n",
       "Name: Profit, dtype: float64"
      ]
     },
     "execution_count": 50,
     "metadata": {},
     "output_type": "execute_result"
    }
   ],
   "source": [
    "# Calculate the total revenue for each Discount.\n",
    "\n",
    "revenue_discount = discount_df[\"Profit\"].sum()\n",
    "revenue_discount"
   ]
  },
  {
   "cell_type": "code",
   "execution_count": 126,
   "id": "17173d7f-b42a-4cea-9d9b-9fdda09d6a53",
   "metadata": {},
   "outputs": [
    {
     "data": {
      "text/plain": [
       "<AxesSubplot:title={'center':'Profit per Discount'}, xlabel='Discount', ylabel='Profit'>"
      ]
     },
     "execution_count": 126,
     "metadata": {},
     "output_type": "execute_result"
    },
    {
     "data": {
      "image/png": "[encoded data removed]",
      "text/plain": [
       "<Figure size 720x504 with 1 Axes>"
      ]
     },
     "metadata": {
      "needs_background": "light"
     },
     "output_type": "display_data"
    }
   ],
   "source": [
    "# make a line Graph of discounted revenue\n",
    "\n",
    "discount_graph = full_orders_df.groupby(['Discount'])['Profit'].sum().sort_values(ascending=False)\n",
    "c = ['green', 'green', 'green', 'green', 'red','red','red','red','red','red','red','red','red','red']\n",
    "discount_graph.plot(kind='bar', title='Profit per Discount', ylabel='Profit',\n",
    "         xlabel='Discount',color=c, figsize=(10, 7))"
   ]
  },
  {
   "cell_type": "code",
   "execution_count": 45,
   "id": "db51a4e3-1068-472a-a3fb-43fdb1ed90b1",
   "metadata": {},
   "outputs": [],
   "source": [
    "# sort by segment\n",
    "segment_df = full_orders_df.groupby([\"Segment\"])\n"
   ]
  },
  {
   "cell_type": "code",
   "execution_count": 85,
   "id": "62f11133-9fce-4e53-93f1-d8e909df0d64",
   "metadata": {},
   "outputs": [
    {
     "name": "stdout",
     "output_type": "stream",
     "text": [
      "Segment\n",
      "Consumer       5191\n",
      "Corporate      3020\n",
      "Home Office    1783\n",
      "Name: Profit, dtype: int64\n"
     ]
    }
   ],
   "source": [
    "# get a count of how many products are in each segment \n",
    "\n",
    "count_segment = segment_df[\"Profit\"].count()\n",
    "print(count_segment)"
   ]
  },
  {
   "cell_type": "code",
   "execution_count": 86,
   "id": "5568ab7c-efb0-4726-a802-965ca108782f",
   "metadata": {},
   "outputs": [
    {
     "data": {
      "text/plain": [
       "Segment\n",
       "Consumer       134119.2092\n",
       "Corporate       91979.1340\n",
       "Home Office     60298.6785\n",
       "Name: Profit, dtype: float64"
      ]
     },
     "execution_count": 86,
     "metadata": {},
     "output_type": "execute_result"
    }
   ],
   "source": [
    "# Calculate the total revenue for each Segment.\n",
    "\n",
    "revenue_segment = segment_df[\"Profit\"].sum()\n",
    "revenue_segment"
   ]
  },
  {
   "cell_type": "code",
   "execution_count": 91,
   "id": "d218d8d4-953f-48c3-9f92-0e30704b637a",
   "metadata": {},
   "outputs": [
    {
     "data": {
      "text/html": [
       "<div>\n",
       "<style scoped>\n",
       "    .dataframe tbody tr th:only-of-type {\n",
       "        vertical-align: middle;\n",
       "    }\n",
       "\n",
       "    .dataframe tbody tr th {\n",
       "        vertical-align: top;\n",
       "    }\n",
       "\n",
       "    .dataframe thead th {\n",
       "        text-align: right;\n",
       "    }\n",
       "</style>\n",
       "<table border=\"1\" class=\"dataframe\">\n",
       "  <thead>\n",
       "    <tr style=\"text-align: right;\">\n",
       "      <th></th>\n",
       "      <th>Order ID</th>\n",
       "      <th>Order Date</th>\n",
       "      <th>Ship Date</th>\n",
       "      <th>Ship Mode</th>\n",
       "      <th>Customer ID</th>\n",
       "      <th>Segment</th>\n",
       "      <th>City</th>\n",
       "      <th>State</th>\n",
       "      <th>Postal Code</th>\n",
       "      <th>Region</th>\n",
       "      <th>Product ID</th>\n",
       "      <th>Category</th>\n",
       "      <th>Sub-Category</th>\n",
       "      <th>Product Name</th>\n",
       "      <th>Sales</th>\n",
       "      <th>Quantity</th>\n",
       "      <th>Discount</th>\n",
       "      <th>Profit</th>\n",
       "      <th>Returned</th>\n",
       "    </tr>\n",
       "  </thead>\n",
       "  <tbody>\n",
       "    <tr>\n",
       "      <th>18</th>\n",
       "      <td>CA-2014-143336</td>\n",
       "      <td>8/27/14</td>\n",
       "      <td>9/1/14</td>\n",
       "      <td>Second Class</td>\n",
       "      <td>ZD-21925</td>\n",
       "      <td>Consumer</td>\n",
       "      <td>San Francisco</td>\n",
       "      <td>California</td>\n",
       "      <td>94109</td>\n",
       "      <td>West</td>\n",
       "      <td>OFF-AR-10003056</td>\n",
       "      <td>Office Supplies</td>\n",
       "      <td>Art</td>\n",
       "      <td>Newell 341</td>\n",
       "      <td>8.56</td>\n",
       "      <td>2</td>\n",
       "      <td>0%</td>\n",
       "      <td>2.4824</td>\n",
       "      <td>Yes</td>\n",
       "    </tr>\n",
       "    <tr>\n",
       "      <th>19</th>\n",
       "      <td>CA-2014-143336</td>\n",
       "      <td>8/27/14</td>\n",
       "      <td>9/1/14</td>\n",
       "      <td>Second Class</td>\n",
       "      <td>ZD-21925</td>\n",
       "      <td>Consumer</td>\n",
       "      <td>San Francisco</td>\n",
       "      <td>California</td>\n",
       "      <td>94109</td>\n",
       "      <td>West</td>\n",
       "      <td>TEC-PH-10001949</td>\n",
       "      <td>Technology</td>\n",
       "      <td>Phones</td>\n",
       "      <td>Cisco SPA 501G IP Phone</td>\n",
       "      <td>213.48</td>\n",
       "      <td>3</td>\n",
       "      <td>20%</td>\n",
       "      <td>16.0110</td>\n",
       "      <td>Yes</td>\n",
       "    </tr>\n",
       "    <tr>\n",
       "      <th>20</th>\n",
       "      <td>CA-2014-143336</td>\n",
       "      <td>8/27/14</td>\n",
       "      <td>9/1/14</td>\n",
       "      <td>Second Class</td>\n",
       "      <td>ZD-21925</td>\n",
       "      <td>Consumer</td>\n",
       "      <td>San Francisco</td>\n",
       "      <td>California</td>\n",
       "      <td>94109</td>\n",
       "      <td>West</td>\n",
       "      <td>OFF-BI-10002215</td>\n",
       "      <td>Office Supplies</td>\n",
       "      <td>Binders</td>\n",
       "      <td>Wilson Jones Hanging View Binder, White, 1\"</td>\n",
       "      <td>22.72</td>\n",
       "      <td>4</td>\n",
       "      <td>20%</td>\n",
       "      <td>7.3840</td>\n",
       "      <td>Yes</td>\n",
       "    </tr>\n",
       "    <tr>\n",
       "      <th>55</th>\n",
       "      <td>CA-2016-111682</td>\n",
       "      <td>6/17/16</td>\n",
       "      <td>6/18/16</td>\n",
       "      <td>First Class</td>\n",
       "      <td>TB-21055</td>\n",
       "      <td>Consumer</td>\n",
       "      <td>Troy</td>\n",
       "      <td>New York</td>\n",
       "      <td>12180</td>\n",
       "      <td>East</td>\n",
       "      <td>OFF-ST-10000604</td>\n",
       "      <td>Office Supplies</td>\n",
       "      <td>Storage</td>\n",
       "      <td>Home/Office Personal File Carts</td>\n",
       "      <td>208.56</td>\n",
       "      <td>6</td>\n",
       "      <td>0%</td>\n",
       "      <td>52.1400</td>\n",
       "      <td>Yes</td>\n",
       "    </tr>\n",
       "    <tr>\n",
       "      <th>56</th>\n",
       "      <td>CA-2016-111682</td>\n",
       "      <td>6/17/16</td>\n",
       "      <td>6/18/16</td>\n",
       "      <td>First Class</td>\n",
       "      <td>TB-21055</td>\n",
       "      <td>Consumer</td>\n",
       "      <td>Troy</td>\n",
       "      <td>New York</td>\n",
       "      <td>12180</td>\n",
       "      <td>East</td>\n",
       "      <td>OFF-PA-10001569</td>\n",
       "      <td>Office Supplies</td>\n",
       "      <td>Paper</td>\n",
       "      <td>Xerox 232</td>\n",
       "      <td>32.40</td>\n",
       "      <td>5</td>\n",
       "      <td>0%</td>\n",
       "      <td>15.5520</td>\n",
       "      <td>Yes</td>\n",
       "    </tr>\n",
       "  </tbody>\n",
       "</table>\n",
       "</div>"
      ],
      "text/plain": [
       "          Order ID Order Date Ship Date     Ship Mode Customer ID   Segment  \\\n",
       "18  CA-2014-143336    8/27/14    9/1/14  Second Class    ZD-21925  Consumer   \n",
       "19  CA-2014-143336    8/27/14    9/1/14  Second Class    ZD-21925  Consumer   \n",
       "20  CA-2014-143336    8/27/14    9/1/14  Second Class    ZD-21925  Consumer   \n",
       "55  CA-2016-111682    6/17/16   6/18/16   First Class    TB-21055  Consumer   \n",
       "56  CA-2016-111682    6/17/16   6/18/16   First Class    TB-21055  Consumer   \n",
       "\n",
       "             City       State  Postal Code Region       Product ID  \\\n",
       "18  San Francisco  California        94109   West  OFF-AR-10003056   \n",
       "19  San Francisco  California        94109   West  TEC-PH-10001949   \n",
       "20  San Francisco  California        94109   West  OFF-BI-10002215   \n",
       "55           Troy    New York        12180   East  OFF-ST-10000604   \n",
       "56           Troy    New York        12180   East  OFF-PA-10001569   \n",
       "\n",
       "           Category Sub-Category                                 Product Name  \\\n",
       "18  Office Supplies          Art                                   Newell 341   \n",
       "19       Technology       Phones                      Cisco SPA 501G IP Phone   \n",
       "20  Office Supplies      Binders  Wilson Jones Hanging View Binder, White, 1\"   \n",
       "55  Office Supplies      Storage              Home/Office Personal File Carts   \n",
       "56  Office Supplies        Paper                                    Xerox 232   \n",
       "\n",
       "     Sales  Quantity Discount   Profit Returned  \n",
       "18    8.56         2       0%   2.4824      Yes  \n",
       "19  213.48         3      20%  16.0110      Yes  \n",
       "20   22.72         4      20%   7.3840      Yes  \n",
       "55  208.56         6       0%  52.1400      Yes  \n",
       "56   32.40         5       0%  15.5520      Yes  "
      ]
     },
     "execution_count": 91,
     "metadata": {},
     "output_type": "execute_result"
    }
   ],
   "source": [
    "# sort by sub category and returns\n",
    "# created df with all returned\n",
    "returned_sub = full_orders_df[(full_orders_df[\"Returned\"] == 'Yes')]\n",
    "returned_sub.head()"
   ]
  },
  {
   "cell_type": "code",
   "execution_count": 92,
   "id": "49e201b9-6616-4afd-b83d-5af0db66ebc6",
   "metadata": {},
   "outputs": [],
   "source": [
    "# find returned items of all subcategories\n",
    "subcategory_return = returned_sub.groupby([\"Sub-Category\"])\n"
   ]
  },
  {
   "cell_type": "code",
   "execution_count": 94,
   "id": "b1f49ee9-dc97-417e-8756-ad278679e9ea",
   "metadata": {},
   "outputs": [
    {
     "name": "stdout",
     "output_type": "stream",
     "text": [
      "Sub-Category\n",
      "Accessories     61\n",
      "Appliances      40\n",
      "Art             47\n",
      "Binders        137\n",
      "Bookcases       16\n",
      "Chairs          53\n",
      "Copiers          5\n",
      "Envelopes       13\n",
      "Fasteners       19\n",
      "Furnishings     72\n",
      "Labels          21\n",
      "Machines        13\n",
      "Paper          123\n",
      "Phones          77\n",
      "Storage         57\n",
      "Supplies        16\n",
      "Tables          30\n",
      "Name: Returned, dtype: int64\n"
     ]
    }
   ],
   "source": [
    "# get a count of how many products were returned per sub-category \n",
    "\n",
    "count_returned = subcategory_return[\"Returned\"].count()\n",
    "print(count_returned)"
   ]
  },
  {
   "cell_type": "code",
   "execution_count": 96,
   "id": "b48debec-91fa-4752-b2f2-7ce414a90f7e",
   "metadata": {},
   "outputs": [
    {
     "data": {
      "text/plain": [
       "[61, 40, 47, 137, 16, 53, 5, 13, 19, 72, 21, 13, 123, 77, 57, 16, 30]"
      ]
     },
     "execution_count": 96,
     "metadata": {},
     "output_type": "execute_result"
    }
   ],
   "source": [
    "returned_list = count_returned.tolist()\n",
    "returned_list"
   ]
  },
  {
   "cell_type": "code",
   "execution_count": 100,
   "id": "16c152bf-d03a-4366-8120-48dd44893d63",
   "metadata": {},
   "outputs": [
    {
     "data": {
      "text/plain": [
       "[775,\n",
       " 466,\n",
       " 796,\n",
       " 1523,\n",
       " 228,\n",
       " 617,\n",
       " 68,\n",
       " 254,\n",
       " 217,\n",
       " 957,\n",
       " 364,\n",
       " 115,\n",
       " 1370,\n",
       " 889,\n",
       " 846,\n",
       " 190,\n",
       " 319]"
      ]
     },
     "execution_count": 100,
     "metadata": {},
     "output_type": "execute_result"
    }
   ],
   "source": [
    "# list of count of purchase items per sub-category\n",
    "\n",
    "subcategories_only = full_orders_df.groupby([\"Sub-Category\"])\n",
    "list_count_subcategory = subcategories_only[\"Profit\"].count()\n",
    "\n",
    "subcategory_all_list = list_count_subcategory.tolist()\n",
    "subcategory_all_list"
   ]
  },
  {
   "cell_type": "code",
   "execution_count": 111,
   "id": "04abc96f-c7f2-46fe-b169-f36b2f5f72fb",
   "metadata": {},
   "outputs": [
    {
     "data": {
      "text/plain": [
       "['Accessories',\n",
       " 'Appliances',\n",
       " 'Art',\n",
       " 'Binders',\n",
       " 'Bookcases',\n",
       " 'Chairs',\n",
       " 'Copiers',\n",
       " 'Envelopes',\n",
       " 'Fasteners',\n",
       " 'Furnishings',\n",
       " 'Labels',\n",
       " 'Machines',\n",
       " 'Paper',\n",
       " 'Phones',\n",
       " 'Storage',\n",
       " 'Supplies',\n",
       " 'Tables']"
      ]
     },
     "execution_count": 111,
     "metadata": {},
     "output_type": "execute_result"
    }
   ],
   "source": [
    "#create list for sub-categories\n",
    "sub_name_list = full_orders_df['Sub-Category'].tolist()\n",
    "sub_name_list.sort()\n",
    "sub = []\n",
    "for i in sub_name_list:\n",
    "    if i not in sub:\n",
    "        sub.append(i)\n",
    "sub"
   ]
  },
  {
   "cell_type": "code",
   "execution_count": 123,
   "id": "21fac5f2-c30a-408c-a8be-017c6484a63b",
   "metadata": {},
   "outputs": [],
   "source": [
    "sub_return_df = pd.DataFrame(\n",
    "    {'Sub-Category': sub,\n",
    "     'Items Purchased': subcategory_all_list,\n",
    "     'Items Returned': returned_list\n",
    "    })\n",
    "sub_return_df[\"% Returned\"] = sub_return_df[\"Items Returned\"].div(sub_return_df[\"Items Purchased\"].values) * 100"
   ]
  },
  {
   "cell_type": "code",
   "execution_count": 124,
   "id": "18e3ffc4-7f59-4c6c-9fef-6fc54ace665b",
   "metadata": {},
   "outputs": [
    {
     "data": {
      "text/html": [
       "<div>\n",
       "<style scoped>\n",
       "    .dataframe tbody tr th:only-of-type {\n",
       "        vertical-align: middle;\n",
       "    }\n",
       "\n",
       "    .dataframe tbody tr th {\n",
       "        vertical-align: top;\n",
       "    }\n",
       "\n",
       "    .dataframe thead th {\n",
       "        text-align: right;\n",
       "    }\n",
       "</style>\n",
       "<table border=\"1\" class=\"dataframe\">\n",
       "  <thead>\n",
       "    <tr style=\"text-align: right;\">\n",
       "      <th></th>\n",
       "      <th>Sub-Category</th>\n",
       "      <th>Items Purchased</th>\n",
       "      <th>Items Returned</th>\n",
       "      <th>% Returned</th>\n",
       "    </tr>\n",
       "  </thead>\n",
       "  <tbody>\n",
       "    <tr>\n",
       "      <th>0</th>\n",
       "      <td>Accessories</td>\n",
       "      <td>775</td>\n",
       "      <td>61</td>\n",
       "      <td>7.870968</td>\n",
       "    </tr>\n",
       "    <tr>\n",
       "      <th>1</th>\n",
       "      <td>Appliances</td>\n",
       "      <td>466</td>\n",
       "      <td>40</td>\n",
       "      <td>8.583691</td>\n",
       "    </tr>\n",
       "    <tr>\n",
       "      <th>2</th>\n",
       "      <td>Art</td>\n",
       "      <td>796</td>\n",
       "      <td>47</td>\n",
       "      <td>5.904523</td>\n",
       "    </tr>\n",
       "    <tr>\n",
       "      <th>3</th>\n",
       "      <td>Binders</td>\n",
       "      <td>1523</td>\n",
       "      <td>137</td>\n",
       "      <td>8.995404</td>\n",
       "    </tr>\n",
       "    <tr>\n",
       "      <th>4</th>\n",
       "      <td>Bookcases</td>\n",
       "      <td>228</td>\n",
       "      <td>16</td>\n",
       "      <td>7.017544</td>\n",
       "    </tr>\n",
       "    <tr>\n",
       "      <th>5</th>\n",
       "      <td>Chairs</td>\n",
       "      <td>617</td>\n",
       "      <td>53</td>\n",
       "      <td>8.589951</td>\n",
       "    </tr>\n",
       "    <tr>\n",
       "      <th>6</th>\n",
       "      <td>Copiers</td>\n",
       "      <td>68</td>\n",
       "      <td>5</td>\n",
       "      <td>7.352941</td>\n",
       "    </tr>\n",
       "    <tr>\n",
       "      <th>7</th>\n",
       "      <td>Envelopes</td>\n",
       "      <td>254</td>\n",
       "      <td>13</td>\n",
       "      <td>5.118110</td>\n",
       "    </tr>\n",
       "    <tr>\n",
       "      <th>8</th>\n",
       "      <td>Fasteners</td>\n",
       "      <td>217</td>\n",
       "      <td>19</td>\n",
       "      <td>8.755760</td>\n",
       "    </tr>\n",
       "    <tr>\n",
       "      <th>9</th>\n",
       "      <td>Furnishings</td>\n",
       "      <td>957</td>\n",
       "      <td>72</td>\n",
       "      <td>7.523511</td>\n",
       "    </tr>\n",
       "    <tr>\n",
       "      <th>10</th>\n",
       "      <td>Labels</td>\n",
       "      <td>364</td>\n",
       "      <td>21</td>\n",
       "      <td>5.769231</td>\n",
       "    </tr>\n",
       "    <tr>\n",
       "      <th>11</th>\n",
       "      <td>Machines</td>\n",
       "      <td>115</td>\n",
       "      <td>13</td>\n",
       "      <td>11.304348</td>\n",
       "    </tr>\n",
       "    <tr>\n",
       "      <th>12</th>\n",
       "      <td>Paper</td>\n",
       "      <td>1370</td>\n",
       "      <td>123</td>\n",
       "      <td>8.978102</td>\n",
       "    </tr>\n",
       "    <tr>\n",
       "      <th>13</th>\n",
       "      <td>Phones</td>\n",
       "      <td>889</td>\n",
       "      <td>77</td>\n",
       "      <td>8.661417</td>\n",
       "    </tr>\n",
       "    <tr>\n",
       "      <th>14</th>\n",
       "      <td>Storage</td>\n",
       "      <td>846</td>\n",
       "      <td>57</td>\n",
       "      <td>6.737589</td>\n",
       "    </tr>\n",
       "    <tr>\n",
       "      <th>15</th>\n",
       "      <td>Supplies</td>\n",
       "      <td>190</td>\n",
       "      <td>16</td>\n",
       "      <td>8.421053</td>\n",
       "    </tr>\n",
       "    <tr>\n",
       "      <th>16</th>\n",
       "      <td>Tables</td>\n",
       "      <td>319</td>\n",
       "      <td>30</td>\n",
       "      <td>9.404389</td>\n",
       "    </tr>\n",
       "  </tbody>\n",
       "</table>\n",
       "</div>"
      ],
      "text/plain": [
       "   Sub-Category  Items Purchased  Items Returned  % Returned\n",
       "0   Accessories              775              61    7.870968\n",
       "1    Appliances              466              40    8.583691\n",
       "2           Art              796              47    5.904523\n",
       "3       Binders             1523             137    8.995404\n",
       "4     Bookcases              228              16    7.017544\n",
       "5        Chairs              617              53    8.589951\n",
       "6       Copiers               68               5    7.352941\n",
       "7     Envelopes              254              13    5.118110\n",
       "8     Fasteners              217              19    8.755760\n",
       "9   Furnishings              957              72    7.523511\n",
       "10       Labels              364              21    5.769231\n",
       "11     Machines              115              13   11.304348\n",
       "12        Paper             1370             123    8.978102\n",
       "13       Phones              889              77    8.661417\n",
       "14      Storage              846              57    6.737589\n",
       "15     Supplies              190              16    8.421053\n",
       "16       Tables              319              30    9.404389"
      ]
     },
     "execution_count": 124,
     "metadata": {},
     "output_type": "execute_result"
    }
   ],
   "source": [
    "sub_return_df.head(20)"
   ]
  },
  {
   "cell_type": "code",
   "execution_count": null,
   "id": "0a5d278c-636e-4ebc-bee1-391fc9ea5f3b",
   "metadata": {},
   "outputs": [],
   "source": []
  }
 ],
 "metadata": {
  "kernelspec": {
   "display_name": "Python 3 (ipykernel)",
   "language": "python",
   "name": "python3"
  },
  "language_info": {
   "codemirror_mode": {
    "name": "ipython",
    "version": 3
   },
   "file_extension": ".py",
   "mimetype": "text/x-python",
   "name": "python",
   "nbconvert_exporter": "python",
   "pygments_lexer": "ipython3",
   "version": "3.7.11"
  }
 },
 "nbformat": 4,
 "nbformat_minor": 5
}
